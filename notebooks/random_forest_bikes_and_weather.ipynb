{
 "cells": [
  {
   "cell_type": "code",
   "execution_count": null,
   "id": "66fb5b6e-a6f9-47c5-aa96-a49c29cea0b8",
   "metadata": {
    "tags": []
   },
   "outputs": [],
   "source": [
    "%pip freeze"
   ]
  },
  {
   "cell_type": "code",
   "execution_count": null,
   "id": "0b0815dd-ca80-451b-b227-320b333e03a8",
   "metadata": {},
   "outputs": [],
   "source": [
    "%pip install plotly "
   ]
  },
  {
   "cell_type": "code",
   "execution_count": null,
   "id": "5756599e-be60-4c75-8d12-426e3db582d7",
   "metadata": {},
   "outputs": [],
   "source": [
    "%pip install uszipcode"
   ]
  },
  {
   "cell_type": "code",
   "execution_count": null,
   "id": "7c353290-a1d7-420d-b686-7032f02b9ae0",
   "metadata": {},
   "outputs": [],
   "source": [
    "%pip install geopandas"
   ]
  },
  {
   "cell_type": "code",
   "execution_count": null,
   "id": "f046a4ea-6831-450b-984b-da74425b5229",
   "metadata": {
    "tags": []
   },
   "outputs": [],
   "source": [
    "%pip install lenspy"
   ]
  },
  {
   "cell_type": "code",
   "execution_count": null,
   "id": "0fda534d-8126-4c57-aa52-39bdd1273c6b",
   "metadata": {},
   "outputs": [],
   "source": [
    "import pandas as pd \n",
    "import numpy as np \n",
    "from datetime import date \n",
    "import plotly.graph_objects as go \n",
    "import plotly.express as px\n",
    "from lenspy import DynamicPlot\n",
    "import json\n",
    "import geopandas as gpd\n",
    "import copy\n",
    "\n",
    "from sklearn.ensemble import RandomForestRegressor\n",
    "from sklearn.linear_model import LinearRegression\n",
    "from lat_lon_to_zips import map_lat_lon_to_zips"
   ]
  },
  {
   "cell_type": "markdown",
   "id": "534c9754-b2ef-45ce-b8a0-13dd41c780fa",
   "metadata": {},
   "source": [
    "# Random Forests by Zipcode"
   ]
  },
  {
   "cell_type": "markdown",
   "id": "04915457-ffd0-4699-bd64-8af3290c6ba2",
   "metadata": {},
   "source": [
    "### bikes and weather"
   ]
  },
  {
   "cell_type": "code",
   "execution_count": null,
   "id": "8d8719ed-7cf5-4006-b551-08b1b083820e",
   "metadata": {},
   "outputs": [],
   "source": [
    "%%bigquery df\n",
    "SELECT \n",
    "    EXTRACT(DAYOFYEAR FROM bike.starttime) AS day_of_year,\n",
    "    EXTRACT(YEAR FROM bike.starttime) AS year,\n",
    "    bike.start_station_name AS start_station_name,\n",
    "    SUM(bike.tripduration) AS total_duration,\n",
    "    MAX(bike.start_station_latitude) AS lat,\n",
    "    MAX(bike.start_station_longitude) AS lon,\n",
    "    SUM(weather.prcp) AS sum_prcp,\n",
    "    SUM(weather.tmin) AS sum_tmin,\n",
    "    SUM(weather.tmax) AS sum_tmax,\n",
    "    SUM(weather.snow) AS sum_snow,\n",
    "    SUM(weather.wind) AS sum_wind\n",
    "FROM `hackathon-team-05.team05bike.noaa_daily_weather_nyc_central_park` AS weather\n",
    "INNER JOIN `hackathon-team-05.team05bike.NYCbike` AS bike\n",
    "ON weather.date = EXTRACT(DATE FROM bike.starttime)\n",
    "GROUP BY 1, 2, 3"
   ]
  },
  {
   "cell_type": "code",
   "execution_count": null,
   "id": "69b99117-994d-4be2-b833-f15a677d187f",
   "metadata": {},
   "outputs": [],
   "source": [
    "def summarize_df(df: pd.DataFrame):\n",
    "    print('df.shape', df.shape)\n",
    "    print('='*100)\n",
    "    print('df.head()', df.head())\n",
    "    print('='*100)\n",
    "    print('df.describe()', df.describe())\n",
    "    \n",
    "def sort(df, sort_cols):\n",
    "    return df.sort_values(sort_cols)\n",
    "\n",
    "def define_mobility_index(df, col_to_index):\n",
    "    df['mobility_index'] = 100 * df[col_to_index] / df[col_to_index].iloc[0]\n",
    "    return df, 'mobility_index'\n",
    "\n",
    "def add_pct_change_to_index(df, y, period):\n",
    "    df[y + '_diff'] = df[y].pct_change(periods=period)\n",
    "    return df\n",
    "    \n",
    "def add_momentum_terms(df, mobility_index, rolling_averages):\n",
    "    for rolling_avg in rolling_averages:\n",
    "        df['momentum_r' + str(rolling_avg)] = (\n",
    "            df[mobility_index + '_diff'].rolling(rolling_avg).mean() * 1 + df[mobility_index]\n",
    "        ).shift(1)\n",
    "    return df\n",
    "\n",
    "def add_timeshift_to_index(df, mobility_index, shifts_to_y):\n",
    "    for shift in shifts_to_y:\n",
    "        df[mobility_index + '_t' + str(abs(shift))] = df[mobility_index].shift(shift)\n",
    "    return df\n",
    "\n",
    "def setup_df(df, sort_cols, col_to_index, period, rolling_averages, shifts_to_y):\n",
    "    df = sort(df, sort_cols)\n",
    "    df, mobility_index = define_mobility_index(df, col_to_index)\n",
    "    df = add_pct_change_to_index(df, mobility_index, period)\n",
    "    df = add_momentum_terms(df, mobility_index, rolling_averages)\n",
    "    df = add_timeshift_to_index(df, mobility_index, shifts_to_y)\n",
    "    df = df.dropna()\n",
    "    return df\n",
    "\n",
    "summarize_df(df)"
   ]
  },
  {
   "cell_type": "markdown",
   "id": "22735408-e90c-4e2b-9e4e-37a53cfe2a4b",
   "metadata": {},
   "source": [
    "### lat, lon -> zipcodes"
   ]
  },
  {
   "cell_type": "code",
   "execution_count": null,
   "id": "df1e49a4-5453-4ab0-9898-392ac65f5de2",
   "metadata": {},
   "outputs": [],
   "source": [
    "%%bigquery df_station_lat_lon\n",
    "SELECT \n",
    "    start_station_name,\n",
    "    MAX(start_station_latitude) AS lat,\n",
    "    MAX(start_station_longitude) AS lon,\n",
    "FROM `hackathon-team-05.team05bike.NYCbike`\n",
    "GROUP BY 1"
   ]
  },
  {
   "cell_type": "markdown",
   "id": "bbe72950-bb86-4f31-af68-f881edd158f3",
   "metadata": {},
   "source": [
    "#### custom lat_lon_to_zips function"
   ]
  },
  {
   "cell_type": "code",
   "execution_count": null,
   "id": "e0b60370-afbb-4a01-a41b-e6bfbd7d3587",
   "metadata": {},
   "outputs": [],
   "source": [
    "df_station_lat_lon_zips = map_lat_lon_to_zips(df_station_lat_lon)"
   ]
  },
  {
   "cell_type": "code",
   "execution_count": null,
   "id": "db3cc8d8-cb56-4d02-9ac3-b118d7c4601b",
   "metadata": {},
   "outputs": [],
   "source": [
    "df_merged = pd.merge(\n",
    "    df,\n",
    "    df_station_lat_lon_zips[['start_station_name', 'postalCode']],\n",
    "    on='start_station_name',\n",
    "    how='left'\n",
    ")"
   ]
  },
  {
   "cell_type": "code",
   "execution_count": null,
   "id": "3b919920-4bae-4d6b-a712-5590dc4a3373",
   "metadata": {},
   "outputs": [],
   "source": [
    "cols_to_agg = {\n",
    "    'lat':'max',\n",
    "    'lon':'max',\n",
    "    'start_station_name':'max',\n",
    "    'total_duration': 'sum',\n",
    "    'sum_prcp': 'sum',\n",
    "    'sum_tmin': 'sum',\n",
    "    'sum_tmax': 'sum',\n",
    "    'sum_snow': 'sum',\n",
    "    'sum_wind': 'sum',\n",
    "}"
   ]
  },
  {
   "cell_type": "code",
   "execution_count": null,
   "id": "e184deb7-5fcd-4c98-af55-03febdf3d786",
   "metadata": {},
   "outputs": [],
   "source": [
    "df_merged.loc[df_merged['postalCode']=='10069', 'total_duration'].describe()"
   ]
  },
  {
   "cell_type": "code",
   "execution_count": null,
   "id": "fec56980-6dad-4b57-a2a3-394f9d1c7d13",
   "metadata": {},
   "outputs": [],
   "source": [
    "df_merged.loc[:, 'total_duration'].describe()"
   ]
  },
  {
   "cell_type": "code",
   "execution_count": null,
   "id": "9ead0f9e-8826-4e85-87fc-8c0c087b12a9",
   "metadata": {
    "tags": []
   },
   "outputs": [],
   "source": [
    "df_agg = df_merged.groupby(['postalCode', 'year', 'day_of_year'] ).agg(cols_to_agg).reset_index()"
   ]
  },
  {
   "cell_type": "markdown",
   "id": "da20032e-a15c-404e-86c9-231133974e39",
   "metadata": {},
   "source": [
    "### using groupby and transforms as analysis is on postalCode level"
   ]
  },
  {
   "cell_type": "code",
   "execution_count": null,
   "id": "9a448d98-e963-479a-b024-428650f07f5f",
   "metadata": {},
   "outputs": [],
   "source": [
    "df_agg = sort(\n",
    "    df_agg, \n",
    "    sort_cols=['postalCode', 'year', 'day_of_year']\n",
    ")\n",
    "df_agg['mobility_index'] = (\n",
    "    df_agg['total_duration']\n",
    "    .groupby(df_agg['postalCode'])\n",
    "    .transform(lambda x: 100 * x/ x.iloc[0])\n",
    ")\n",
    "df_agg['mobility_index_diff'] = (\n",
    "    df_agg['mobility_index']\n",
    "    .groupby(df_agg['postalCode'])\n",
    "    .transform(lambda x: x.pct_change(periods=1))\n",
    ")\n",
    "for rolling_avg in [2, 3, 5, 10]:\n",
    "    df_agg['momentum_r' + str(rolling_avg)] = (\n",
    "        df_agg\n",
    "        .groupby(df_agg['postalCode'])\n",
    "        .apply(lambda x: (x['mobility_index_diff'].rolling(rolling_avg).mean() + x['mobility_index']).shift(1))\n",
    "    ).values\n",
    "\n",
    "df_agg['mobility_index_t1'] = (\n",
    "    df_agg['mobility_index']\n",
    "    .groupby(df_agg['postalCode'])\n",
    "    .transform(lambda x: x.shift(-1))\n",
    ")"
   ]
  },
  {
   "cell_type": "code",
   "execution_count": null,
   "id": "4199c55c-5db8-40d1-b186-82aabfe6a7ea",
   "metadata": {},
   "outputs": [],
   "source": [
    "df_agg = df_agg.dropna()"
   ]
  },
  {
   "cell_type": "code",
   "execution_count": null,
   "id": "cc483148-43d9-4026-bfe4-c2d6da961b76",
   "metadata": {},
   "outputs": [],
   "source": [
    "X = (\n",
    "    ['mobility_index']\n",
    "    + ['momentum_r' + str(rolling_avg) for rolling_avg in [2, 3, 5, 10]]\n",
    "    + ['sum_prcp', 'sum_tmin', 'sum_tmax', 'sum_snow', 'sum_wind']    \n",
    ")\n",
    "\n",
    "y = 'mobility_index_t1' # or total_duration_t1\ttotal_duration_t2\ttotal_duration_t5\ttotal_duration_t10"
   ]
  },
  {
   "cell_type": "code",
   "execution_count": null,
   "id": "247152af-c0fa-467b-ad14-e16c673f9b21",
   "metadata": {},
   "outputs": [],
   "source": [
    "### features \n",
    "\n",
    "X"
   ]
  },
  {
   "cell_type": "code",
   "execution_count": null,
   "id": "86411bbc-c19b-4a69-abac-9476c3323638",
   "metadata": {},
   "outputs": [],
   "source": [
    "### target \n",
    "\n",
    "y"
   ]
  },
  {
   "cell_type": "code",
   "execution_count": null,
   "id": "532d399a-d54e-4286-a368-eeb235ea3f16",
   "metadata": {},
   "outputs": [],
   "source": [
    "df_agg['year'].unique()"
   ]
  },
  {
   "cell_type": "code",
   "execution_count": null,
   "id": "dbcb3e93-e2fd-4c19-a5b7-3f03657346b0",
   "metadata": {},
   "outputs": [],
   "source": [
    "models = {}\n",
    "\n",
    "for zipcode in df_agg['postalCode'].unique():\n",
    "    try:\n",
    "        mask = (df_agg['postalCode']==zipcode) & (df_agg['year'] == 2013)# | (df_agg['year'] == 2014)\n",
    "        rfr = RandomForestRegressor(random_state=123)\n",
    "        rfr.fit(df_agg.loc[mask, X], df_agg.loc[mask, y])\n",
    "        models[zipcode] = copy.deepcopy(rfr)\n",
    "    except ValueError:\n",
    "        continue"
   ]
  },
  {
   "cell_type": "code",
   "execution_count": null,
   "id": "7eecf964-929e-4b53-baa6-4cd7fe405566",
   "metadata": {},
   "outputs": [],
   "source": [
    "fig = go.Figure()\n",
    "\n",
    "results = []\n",
    "\n",
    "year = 2017\n",
    "for zipcode in df_agg['postalCode'].unique():\n",
    "    mask = (df_agg['postalCode']==zipcode) & (df_agg['year'] == year)\n",
    "    if zipcode != '10069':\n",
    "        try:\n",
    "            ######################################\n",
    "            if zipcode in models:\n",
    "                y_pred = models[zipcode].predict(df_agg.loc[mask, X])\n",
    "                y_true = df_agg.loc[mask, y]\n",
    "\n",
    "                results.append(\n",
    "                    pd.concat([\n",
    "                        pd.DataFrame({\n",
    "                        'mobility_index_t1_actual': y_true,\n",
    "                        'mobility_index_t1_pred': y_pred,\n",
    "                        'postalCode':[zipcode for _ in range(len(y_true))],\n",
    "                        'year':[year for _ in range(len(y_true))],\n",
    "                        'day_of_year':df_agg.loc[mask, 'day_of_year'],\n",
    "                        'lat':df_agg.loc[mask, 'lat'],\n",
    "                        'lon':df_agg.loc[mask, 'lon'],\n",
    "                        'start_station_name':df_agg.loc[mask, 'start_station_name'],\n",
    "                        }),\n",
    "                        df_agg.loc[mask, X],\n",
    "                    ], axis=1)\n",
    "                )\n",
    "                ######################################\n",
    "\n",
    "                df_agg.loc[df_agg['postalCode']==zipcode, ['year', 'day_of_year', 'mobility_index']]\n",
    "                for y_val, name in zip([y_true, y_pred], [y, y + '-rfr']):\n",
    "                    fig.add_trace(\n",
    "                        go.Scatter(\n",
    "                            x=df_agg.loc[mask, 'day_of_year'],\n",
    "                            y=y_val,\n",
    "                            name=name + '-' + str(year) + '-' + str(zipcode),\n",
    "                            mode='lines+markers',\n",
    "                            marker=dict(size=4),\n",
    "                            visible='legendonly'\n",
    "                        )\n",
    "                    )\n",
    "        except ValueError:\n",
    "            continue\n",
    "\n",
    "fig.update_layout(\n",
    "    xaxis=dict(title='day_of_year'),\n",
    "    yaxis=dict(title='mobility_index'),\n",
    "    height=800\n",
    ")\n",
    "fig.show()"
   ]
  },
  {
   "cell_type": "code",
   "execution_count": null,
   "id": "9ce162aa-58f5-444a-b620-0a04dc0e042f",
   "metadata": {},
   "outputs": [],
   "source": [
    "fig = go.Figure()\n",
    "\n",
    "results = []\n",
    "for year in df_agg['year'].unique()[2:3]:\n",
    "    for zipcode in df_agg['postalCode'].unique():\n",
    "        mask = (df_agg['postalCode']==zipcode) & (df_agg['year'] == year)\n",
    "        if zipcode != '10069':\n",
    "            try:\n",
    "                ######################################\n",
    "                # fit model to subset & record results\n",
    "                \n",
    "\n",
    "                y_pred = rfr.predict(df_agg.loc[mask, X])\n",
    "                y_true = df_agg.loc[mask, y]\n",
    "\n",
    "                results.append(\n",
    "                    pd.concat([\n",
    "                        pd.DataFrame({\n",
    "                        'mobility_index_t1_actual': y_true,\n",
    "                        'mobility_index_t1_pred': y_pred,\n",
    "                        'postalCode':[zipcode for _ in range(len(y_true))],\n",
    "                        'year':[year for _ in range(len(y_true))],\n",
    "                        'day_of_year':df_agg.loc[mask, 'day_of_year'],\n",
    "                        'lat':df_agg.loc[mask, 'lat'],\n",
    "                        'lon':df_agg.loc[mask, 'lon'],\n",
    "                        'start_station_name':df_agg.loc[mask, 'start_station_name'],\n",
    "                        }),\n",
    "                        df_agg.loc[mask, X],\n",
    "                    ], axis=1)\n",
    "                )\n",
    "                ######################################\n",
    "\n",
    "                df_agg.loc[df_agg['postalCode']==zipcode, ['year', 'day_of_year', 'mobility_index']]\n",
    "                for y_val, name in zip([y_true, y_pred], [y, y + '-rfr']):\n",
    "                    fig.add_trace(\n",
    "                        go.Scatter(\n",
    "                            x=df_agg.loc[mask, 'day_of_year'],\n",
    "                            y=y_val,\n",
    "                            name=name + '-' + str(year) + '-' + str(zipcode),\n",
    "                            mode='lines+markers',\n",
    "                            marker=dict(size=4),\n",
    "                            visible='legendonly'\n",
    "                        )\n",
    "                    )\n",
    "            except ValueError:\n",
    "                continue\n",
    "\n",
    "fig.update_layout(\n",
    "    xaxis=dict(title='day_of_year'),\n",
    "    yaxis=dict(title='mobility_index'),\n",
    "    height=800\n",
    ")\n",
    "fig.show()"
   ]
  },
  {
   "cell_type": "code",
   "execution_count": null,
   "id": "40bb96f7-5e00-46d9-a67b-314ab638b8e0",
   "metadata": {},
   "outputs": [],
   "source": [
    "results_grouped = (\n",
    "    pd.concat(results, axis=0)\n",
    "    .groupby('postalCode')\n",
    "    .agg(\n",
    "        {'mobility_index_t1_actual':'last',\n",
    "         'mobility_index_t1_pred':'last',\n",
    "         'day_of_year':'last',\n",
    "         'lat':'last',\n",
    "         'lon':'last',\n",
    "         'start_station_name':'last'\n",
    "        }\n",
    "    )\n",
    ").reset_index()"
   ]
  },
  {
   "cell_type": "code",
   "execution_count": null,
   "id": "e7d90190-2d40-4539-ad96-5e139e482eb7",
   "metadata": {},
   "outputs": [],
   "source": [
    "results_grouped.head()"
   ]
  },
  {
   "cell_type": "code",
   "execution_count": null,
   "id": "773a7138-4531-41cf-9d2c-c448bdc31202",
   "metadata": {},
   "outputs": [],
   "source": [
    "results_grouped = results_grouped.loc[results_grouped['day_of_year']==365, :]"
   ]
  },
  {
   "cell_type": "code",
   "execution_count": null,
   "id": "66754d06-8fc8-4f21-944b-b8761b4ee5f1",
   "metadata": {},
   "outputs": [],
   "source": [
    "def compute_metrics(y_true, y_pred):\n",
    "    mae = np.abs(y_true - y_pred)\n",
    "    mape = np.abs(y_true - y_pred)/y_true\n",
    "    return mae, mape"
   ]
  },
  {
   "cell_type": "code",
   "execution_count": null,
   "id": "6461020d-83c0-4419-863c-5607b6bc6171",
   "metadata": {},
   "outputs": [],
   "source": [
    "results_grouped['MAE-mobility_index_t1'], results_grouped['MAPE-mobility_index_t1'] = compute_metrics(\n",
    "    results_grouped['mobility_index_t1_actual'], \n",
    "    results_grouped['mobility_index_t1_pred']\n",
    ")"
   ]
  },
  {
   "cell_type": "code",
   "execution_count": null,
   "id": "5e910421-b826-4112-b57c-fa212faa12dc",
   "metadata": {},
   "outputs": [],
   "source": [
    "#!curl https://raw.githubusercontent.com/fedhere/PUI2015_EC/master/mam1612_EC/nyc-zip-code-tabulation-areas-polygons.geojson >> nyc_zipcode.geojson"
   ]
  },
  {
   "cell_type": "code",
   "execution_count": null,
   "id": "31f683cd-c38f-432d-876f-f2aad0d7ca3f",
   "metadata": {},
   "outputs": [],
   "source": [
    "with open('nyc_zipcode.geojson') as f:\n",
    "    geojson = json.load(f)"
   ]
  },
  {
   "cell_type": "code",
   "execution_count": null,
   "id": "aac194b4-6ef0-48ed-ba8c-519c5a24bcce",
   "metadata": {},
   "outputs": [],
   "source": [
    "geo_df = gpd.GeoDataFrame.from_features(\n",
    "    geojson['features']\n",
    ").merge(results_grouped, on='postalCode').set_index('postalCode')\n",
    "\n",
    "fig = px.choropleth_mapbox(\n",
    "    geo_df,\n",
    "    geojson=geo_df.geometry,\n",
    "    locations=geo_df.index,\n",
    "    color='mobility_index_t1_pred',\n",
    "    center={'lat':40.776676, 'lon':-73.971321},\n",
    "    mapbox_style='open-street-map',\n",
    "    color_continuous_scale='darkmint',\n",
    "    zoom=8.5,\n",
    "    opacity=0.6\n",
    ")\n",
    "\n",
    "fig.update_layout(\n",
    "    height=800,\n",
    "    margin={'r':0, 't':20, 'l':0, 'b':0}\n",
    ")\n",
    "fig.show()"
   ]
  },
  {
   "cell_type": "code",
   "execution_count": null,
   "id": "822bd839-0b0f-4527-8709-eec327c58076",
   "metadata": {},
   "outputs": [],
   "source": [
    "fig = px.choropleth_mapbox(\n",
    "    geo_df,\n",
    "    geojson=geo_df.geometry,\n",
    "    locations=geo_df.index,\n",
    "    color='mobility_index_t1_pred',\n",
    "    center={'lat':40.776676, 'lon':-73.971321},\n",
    "    mapbox_style='open-street-map',\n",
    "    color_continuous_scale='darkmint',\n",
    "    zoom=8.5,\n",
    "    opacity=0.6\n",
    ")\n",
    "\n",
    "fig2 = px.scatter_mapbox(\n",
    "    lat=geo_df['lat'],\n",
    "    lon=geo_df['lon'],\n",
    "    hover_name=geo_df['start_station_name'],\n",
    "    size_max=12,\n",
    "    size=[1 for _ in range(geo_df['lat'].shape[0])]\n",
    "    #opacity=[0.6 for _ in range(geo_df.shape[0])],\n",
    "    #color=['rgb(0,255,0)' for _ in range(geo_df.shape[0])],\n",
    "    #color_discrete_sequence='red'\n",
    "    #color='red'\n",
    "    #markers=dict(color='rgb(235, 0, 100)', size=10)\n",
    "    #hover_name=geo_df['start_station_name'],\n",
    "    #color=np.array(['red' for _ in range(geo_df['lat'].shape[0])])\n",
    ")\n",
    "\n",
    "\n",
    "fig.add_trace(fig2.data[0])\n",
    "fig.update_layout(\n",
    "    height=800,\n",
    "    margin={'r':0, 't':20, 'l':0, 'b':0}\n",
    ")\n",
    "fig.show()"
   ]
  },
  {
   "cell_type": "markdown",
   "id": "c4766b9d-294c-4c29-bdc1-97dec63784d4",
   "metadata": {},
   "source": [
    "# FOR ALEX I\n",
    "---\n",
    "## Overall Model on bike and weather\n",
    "---"
   ]
  },
  {
   "cell_type": "markdown",
   "id": "82949f3f-3f5d-4459-9838-23b12b98fd19",
   "metadata": {},
   "source": [
    "### imports"
   ]
  },
  {
   "cell_type": "code",
   "execution_count": null,
   "id": "14561e2e-bb8e-4a88-ae05-2e096cf64bc9",
   "metadata": {},
   "outputs": [],
   "source": [
    "%pip install plotly "
   ]
  },
  {
   "cell_type": "code",
   "execution_count": 1,
   "id": "b81fd64b-a03d-4170-a1b1-5229ce90352d",
   "metadata": {},
   "outputs": [],
   "source": [
    "import pandas as pd \n",
    "import numpy as np \n",
    "from datetime import date \n",
    "import plotly.graph_objects as go \n",
    "import plotly.express as px\n",
    "#from lenspy import DynamicPlot\n",
    "import json\n",
    "#import geopandas as gpd\n",
    "import copy\n",
    "\n",
    "from sklearn.ensemble import RandomForestRegressor\n",
    "from sklearn.linear_model import LinearRegression\n",
    "#from lat_lon_to_zips import map_lat_lon_to_zips"
   ]
  },
  {
   "cell_type": "markdown",
   "id": "1f3210ea-8db8-4940-b1b1-fd32f9d0cdcd",
   "metadata": {},
   "source": [
    "### util functions"
   ]
  },
  {
   "cell_type": "code",
   "execution_count": 2,
   "id": "4045ed8c-5340-49ea-8029-a51bf997a516",
   "metadata": {},
   "outputs": [],
   "source": [
    "def summarize_df(df):\n",
    "    print('df.shape', df.shape)\n",
    "    print('='*100)\n",
    "    print('df.head()', df.head())\n",
    "    print('='*100)\n",
    "    print('df.describe()', df.describe())\n",
    "    \n",
    "def sort(df, sort_cols):\n",
    "    return df.sort_values(sort_cols)\n",
    "\n",
    "def define_mobility_index(df, col_to_index):\n",
    "    df['mobility_index'] = 100 * df[col_to_index] / df[col_to_index].iloc[0]\n",
    "    return df, 'mobility_index'\n",
    "\n",
    "def add_pct_change_to_index(df, y, period):\n",
    "    df[y + '_diff'] = df[y].pct_change(periods=period)\n",
    "    return df\n",
    "    \n",
    "def add_momentum_terms(df, mobility_index, rolling_averages):\n",
    "    for rolling_avg in rolling_averages:\n",
    "        df['momentum_r' + str(rolling_avg)] = (\n",
    "            df[mobility_index + '_diff'].rolling(rolling_avg).mean() * 1 + df[mobility_index]\n",
    "        ).shift(1)\n",
    "    return df\n",
    "\n",
    "def add_timeshift_to_index(df, mobility_index, shifts_to_y):\n",
    "    for shift in shifts_to_y:\n",
    "        df[mobility_index + '_t' + str(abs(shift))] = df[mobility_index].shift(shift)\n",
    "    return df\n",
    "\n",
    "def setup_df(df, sort_cols, col_to_index, period, rolling_averages, shifts_to_y):\n",
    "    df = sort(df, sort_cols)\n",
    "    df, mobility_index = define_mobility_index(df, col_to_index)\n",
    "    df = add_pct_change_to_index(df, mobility_index, period)\n",
    "    df = add_momentum_terms(df, mobility_index, rolling_averages)\n",
    "    df = add_timeshift_to_index(df, mobility_index, shifts_to_y)\n",
    "    df = df.dropna()\n",
    "    return df\n",
    "\n"
   ]
  },
  {
   "cell_type": "code",
   "execution_count": 3,
   "id": "135681cd-feaa-44e8-b98d-84d7132e8410",
   "metadata": {},
   "outputs": [
    {
     "name": "stderr",
     "output_type": "stream",
     "text": [
      "Query complete after 0.00s: 100%|██████████| 5/5 [00:00<00:00, 2580.16query/s]                        \n",
      "Downloading: 100%|██████████| 1610/1610 [00:01<00:00, 1338.14rows/s]\n"
     ]
    }
   ],
   "source": [
    "%%bigquery df\n",
    "SELECT \n",
    "    EXTRACT(DAYOFYEAR FROM bike.starttime) AS day_of_year,\n",
    "    EXTRACT(YEAR FROM bike.starttime) AS year,\n",
    "    SUM(bike.tripduration) AS total_duration,\n",
    "    MAX(bike.start_station_latitude) AS lat,\n",
    "    MAX(bike.start_station_longitude) AS lon,\n",
    "    AVG(weather.prcp) AS avg_prcp,\n",
    "    AVG(weather.tmin) AS avg_tmin,\n",
    "    AVG(weather.tmax) AS avg_tmax,\n",
    "    AVG(weather.snow) AS avg_snow,\n",
    "    AVG(weather.wind) AS avg_wind\n",
    "FROM `hackathon-team-05.team05bike.noaa_daily_weather_nyc_central_park` AS weather\n",
    "INNER JOIN `hackathon-team-05.team05bike.NYCbike` AS bike\n",
    "ON weather.date = EXTRACT(DATE FROM bike.starttime)\n",
    "GROUP BY 1, 2"
   ]
  },
  {
   "cell_type": "code",
   "execution_count": 4,
   "id": "16c582d1-717b-40e0-ae97-aee9d78f2713",
   "metadata": {},
   "outputs": [
    {
     "name": "stdout",
     "output_type": "stream",
     "text": [
      "df.shape (1610, 10)\n",
      "====================================================================================================\n",
      "df.head()    day_of_year  year  total_duration        lat        lon  avg_prcp  \\\n",
      "0          355  2017        26293195  45.505851 -73.569109       0.0   \n",
      "1          270  2016        52738036  40.804213 -73.929891       0.0   \n",
      "2          174  2016        52670706  40.786795 -73.929891       0.0   \n",
      "3            2  2014         6697849  40.770513 -73.950048       8.4   \n",
      "4          143  2015        29283814  40.771522 -73.950048       0.0   \n",
      "\n",
      "   avg_tmin  avg_tmax  avg_snow  avg_wind  \n",
      "0       0.0       3.9       0.0       1.8  \n",
      "1      12.2      23.3       0.0       2.0  \n",
      "2      20.0      30.0       0.0       1.8  \n",
      "3      -7.7       0.6       7.9       5.5  \n",
      "4       9.4      21.1       0.0       2.0  \n",
      "====================================================================================================\n",
      "df.describe()        day_of_year         year  total_duration          lat          lon  \\\n",
      "count  1610.000000  1610.000000    1.610000e+03  1610.000000  1610.000000   \n",
      "mean    183.644099  2015.335404    3.174948e+07    40.899721   -73.744533   \n",
      "std     101.622937     1.505920    1.944260e+07     0.726209     3.681941   \n",
      "min       1.000000  2013.000000    8.418400e+05    40.770513   -73.953820   \n",
      "25%     100.000000  2014.000000    1.727357e+07    40.771522   -73.950048   \n",
      "50%     186.000000  2015.000000    2.920921e+07    40.786795   -73.929891   \n",
      "75%     267.000000  2017.000000    4.353239e+07    40.804213   -73.929891   \n",
      "max     365.000000  2018.000000    1.136232e+08    45.506364     0.000000   \n",
      "\n",
      "          avg_prcp     avg_tmin     avg_tmax    avg_snow     avg_wind  \n",
      "count  1610.000000  1610.000000  1610.000000  1609.00000  1599.000000  \n",
      "mean      3.064534     9.995342    18.086894     0.24220     2.329831  \n",
      "std       8.637791     9.668314    10.335003     1.81116     1.021504  \n",
      "min       0.000000   -18.200000   -10.500000     0.00000     0.300000  \n",
      "25%       0.000000     2.800000    10.000000     0.00000     1.600000  \n",
      "50%       0.000000    11.100000    19.400000     0.00000     2.200000  \n",
      "75%       1.300000    18.300000    27.200000     0.00000     2.900000  \n",
      "max     126.200000    28.300000    36.700000    27.90000     6.500000  \n"
     ]
    }
   ],
   "source": [
    "summarize_df(df)"
   ]
  },
  {
   "cell_type": "code",
   "execution_count": 5,
   "id": "3729d978-0db6-4ca6-bcf7-717ec681ec46",
   "metadata": {},
   "outputs": [],
   "source": [
    "df = setup_df(\n",
    "    df=df, \n",
    "    sort_cols=['year', 'day_of_year'], \n",
    "    col_to_index='total_duration',\n",
    "    period=1, \n",
    "    rolling_averages=[2, 3, 5, 10], \n",
    "    shifts_to_y=[-1]\n",
    ")"
   ]
  },
  {
   "cell_type": "code",
   "execution_count": 7,
   "id": "446bb4e6-38f0-44fc-b395-9d5d4acd59b2",
   "metadata": {},
   "outputs": [],
   "source": [
    "X = [\n",
    " 'mobility_index',\n",
    " 'momentum_r2',\n",
    " 'momentum_r3',\n",
    " 'momentum_r5',\n",
    " 'momentum_r10',\n",
    " 'avg_prcp',\n",
    " 'avg_tmin',\n",
    " 'avg_tmax',\n",
    " 'avg_snow',\n",
    " 'avg_wind'\n",
    "]\n",
    "\n",
    "y = 'mobility_index_t1'"
   ]
  },
  {
   "cell_type": "code",
   "execution_count": 11,
   "id": "30ebb0e0-dd68-48e7-85ad-e2971afaa71a",
   "metadata": {},
   "outputs": [
    {
     "data": {
      "text/plain": [
       "RandomForestRegressor(random_state=123)"
      ]
     },
     "execution_count": 11,
     "metadata": {},
     "output_type": "execute_result"
    }
   ],
   "source": [
    "mask = (df['year'] == 2013) | (df['year'] == 2014) | (df['year'] == 2015) | (df['year'] == 2016)\n",
    "rfr = RandomForestRegressor(random_state=123)\n",
    "rfr.fit(df.loc[mask, X], df.loc[mask, y])"
   ]
  },
  {
   "cell_type": "code",
   "execution_count": 12,
   "id": "066601e9-5ff5-41f9-8e49-2cdf766d8ea5",
   "metadata": {},
   "outputs": [
    {
     "data": {
      "application/vnd.plotly.v1+json": {
       "config": {
        "plotlyServerURL": "https://plot.ly"
       },
       "data": [
        {
         "name": "y_true",
         "type": "scatter",
         "x": [
          91,
          92,
          93,
          94,
          95,
          96,
          97,
          98,
          99,
          100,
          101,
          102,
          103,
          104,
          105,
          106,
          107,
          108,
          109,
          110,
          111,
          112,
          113,
          114,
          115,
          116,
          117,
          118,
          119,
          120,
          121,
          122,
          123,
          124,
          125,
          126,
          127,
          128,
          129,
          130,
          131,
          132,
          133,
          134,
          135,
          136,
          137,
          138,
          139,
          140,
          141,
          142,
          143,
          144,
          145,
          146,
          147,
          148,
          149,
          150,
          151,
          152,
          153,
          154,
          155,
          156,
          157,
          158,
          159,
          160,
          161,
          162,
          163,
          164,
          165,
          166,
          167,
          168,
          169,
          170,
          171,
          172,
          173,
          174,
          175,
          176,
          177,
          178,
          179,
          180,
          181,
          182,
          183,
          184,
          185,
          186,
          187,
          188,
          189,
          190,
          191,
          192,
          193,
          194,
          195,
          196,
          197,
          198,
          199,
          200,
          201,
          202,
          203,
          204,
          205,
          206,
          207,
          208,
          209,
          210,
          211,
          212,
          213,
          214,
          215,
          216,
          217,
          218,
          219,
          220,
          221,
          222,
          223,
          224,
          225,
          226,
          227,
          228,
          229,
          230,
          231,
          232,
          233,
          234,
          235,
          236,
          237,
          238,
          239,
          240,
          241,
          242,
          243,
          244,
          245,
          246,
          247,
          248,
          249,
          250,
          251,
          252,
          253,
          254,
          255,
          256,
          257,
          258,
          259,
          260,
          261,
          262,
          263,
          264,
          265,
          266,
          267,
          268,
          269,
          270,
          271,
          272,
          273,
          274,
          275,
          276,
          277,
          278,
          279,
          280,
          281,
          282,
          283,
          284,
          285,
          286,
          287,
          288,
          289,
          290,
          291,
          292,
          293,
          294,
          295,
          296,
          297,
          298,
          299,
          300,
          301,
          302,
          303,
          304,
          305,
          306,
          307,
          308,
          309,
          310,
          311,
          312,
          313,
          314,
          315,
          316,
          317,
          318,
          319,
          320,
          321,
          322,
          323,
          324,
          325,
          326,
          327,
          328,
          329,
          330,
          331,
          332,
          333,
          334,
          335,
          336,
          337,
          338,
          339,
          340,
          341,
          342,
          343,
          344,
          345,
          346,
          347,
          348,
          349,
          350,
          351,
          352,
          353,
          354,
          355,
          356,
          357,
          358,
          359,
          360,
          361,
          362,
          363,
          365
         ],
         "y": [
          344.4448208685602,
          290.14602473425583,
          186.41918663177216,
          344.3734128046473,
          106.63820654857669,
          161.41633583283038,
          254.93443530674904,
          376.6242158461705,
          390.27183426602636,
          494.03275307146737,
          275.07786762448603,
          302.34459647477996,
          368.8200540111324,
          304.9071425125745,
          546.611771755892,
          300.2574372710692,
          291.2285979875139,
          213.4475592312552,
          321.28814009949133,
          193.33943508641818,
          216.39911504327014,
          374.2610293391093,
          251.58420339471542,
          86.80085613573559,
          176.59000625886924,
          287.2289792396781,
          383.4810225168314,
          476.41566256556683,
          283.50941389660454,
          324.8864314122324,
          405.22301962761264,
          383.4563810577329,
          356.02942441847694,
          114.30284187523529,
          306.2862234051759,
          194.13762196601652,
          266.8715436747921,
          289.47052961277376,
          333.44586164032455,
          292.514305241579,
          312.33997014056615,
          40.893535517272404,
          250.53643505168077,
          286.50949773280166,
          366.7463356032935,
          415.23981264389784,
          358.1089978579422,
          362.17925750097675,
          319.78240272085895,
          429.3147501748838,
          112.66453160544845,
          351.6270420957134,
          371.5565509518477,
          74.92852749391513,
          349.1400038714402,
          344.1645587939077,
          429.2698431870324,
          147.62761360571872,
          269.8136786549974,
          333.4937697921857,
          391.9149500806386,
          400.91002780342166,
          402.01130769860555,
          261.7141016288649,
          321.8416124339759,
          188.12195134824685,
          376.9830973706489,
          359.69252000683946,
          477.24054691641754,
          450.02972318466095,
          386.45512695169253,
          334.4533260077927,
          341.3027678587977,
          388.2542296466151,
          439.1475945455655,
          344.67068761270474,
          237.4630945818372,
          413.9513313077624,
          227.5742898564707,
          414.26418884674166,
          431.8978256474689,
          427.63092531962394,
          334.128838191107,
          397.6523103009646,
          467.00260064056744,
          464.5690862431429,
          392.85192084930117,
          491.80299254717073,
          412.16123210486916,
          423.66044057087663,
          312.280744715834,
          426.3172624376154,
          380.0310402599094,
          466.23081663943526,
          399.96725110193046,
          404.92413683393033,
          256.4484396954451,
          410.80852954133496,
          429.02526366361235,
          371.56350456907273,
          360.0102751508898,
          352.3927869447279,
          360.45152604586883,
          193.73792092859574,
          395.20617137518,
          449.7379351672471,
          383.2363386584662,
          406.24437895483146,
          381.7030691290205,
          333.6588338127217,
          348.70195053566175,
          335.3707493176188,
          302.16371650403306,
          242.24772331943714,
          358.07094628972044,
          416.2813699890227,
          354.58211460911406,
          359.2277446504098,
          338.54527504471366,
          415.8399226988529,
          347.61603242680997,
          433.7654395772397,
          414.3286617054787,
          466.6624994062114,
          384.93882105685407,
          530.2915093817369,
          468.89642105361355,
          105.85300630097146,
          435.3411120558538,
          545.7587537939562,
          399.1927850789736,
          452.90113748412114,
          515.7025258508238,
          460.7283143805837,
          527.5619046847495,
          300.65582491565135,
          451.5039820966144,
          431.7990756905838,
          230.8622706303635,
          556.4658022577837,
          414.6758270293546,
          413.9740701884498,
          438.95782155508414,
          485.40641345680206,
          488.2971542705091,
          401.69470023895155,
          353.11379051433323,
          454.4450982767672,
          377.2035939337944,
          192.60934823923733,
          393.1692893403196,
          369.67299832487174,
          341.44822304700017,
          298.0205144596573,
          229.12120271432883,
          462.9797397493678,
          417.99694335434884,
          216.2207820726542,
          431.7567157028634,
          407.19013840828325,
          420.1638267308339,
          420.1482501372618,
          432.87631558694113,
          424.60576427249885,
          411.3155114517422,
          387.87625482717897,
          459.1625659964558,
          412.53917010020695,
          412.5193955594311,
          346.1593938458831,
          297.9086244370363,
          401.53189476310996,
          376.5469650253307,
          445.21123468869337,
          505.05185508146167,
          392.20949376807374,
          374.39628425208844,
          371.7649876228068,
          369.4731109820631,
          373.4298173807043,
          366.910663141864,
          286.4535680648654,
          428.7269516434534,
          387.3240467867353,
          393.0267309811818,
          459.93740026039546,
          396.1995996238541,
          697.3450807116724,
          630.6394971104744,
          411.54216991399977,
          212.42440779792014,
          433.7475123787275,
          359.5013906620715,
          477.17290104787884,
          433.58393973417174,
          484.8714329570033,
          345.696852484749,
          305.2673803913395,
          346.30651839320745,
          426.32316043068977,
          424.8585862565837,
          468.78849575890723,
          439.79528747284684,
          473.5577933969236,
          413.801745683203,
          234.55691833360154,
          428.3984070386072,
          352.9242630178404,
          477.4618597470749,
          478.52890550555867,
          51.02244563811805,
          253.5308050152949,
          309.1699553655105,
          324.21723934890576,
          415.2823628894593,
          463.9660179856261,
          421.38880490948696,
          185.4961783337071,
          303.4238739712421,
          192.49089125242318,
          293.5687387464021,
          322.9271561644952,
          194.09680245307413,
          142.35618870091824,
          177.75080003422187,
          178.2103586433953,
          262.5920740547346,
          253.91230267346637,
          240.32200709993165,
          264.710269835945,
          149.2625360584639,
          180.39499737260059,
          207.3590996458872,
          289.75438203700844,
          180.08804396404545,
          88.57613977642126,
          165.18631336644802,
          285.43157045327644,
          137.07766288249957,
          225.08172801745562,
          246.02790726562782,
          271.9917995188072,
          227.54865414671875,
          242.29345884949979,
          207.7111871242331,
          163.3425737270615,
          235.03883530778012,
          191.34768712134854,
          208.11465035702804,
          203.92817385982465,
          177.49907663573566,
          54.846573008255106,
          101.08906043190494,
          200.11581792643747,
          191.86462381299054,
          141.79532086002928,
          134.69011723442676,
          99.19385297782367,
          86.02618144288846,
          95.98585414539308,
          188.75822266771198,
          215.58590393157394,
          216.6007085692991,
          161.37053279192088,
          183.50721672540723,
          61.22602889292399,
          63.99969362350232,
          39.9590994740414,
          61.07772597445463,
          82.70197189363874,
          54.43348641110988,
          55.30230191120752,
          27.174380149159692,
          42.06965425485885
         ]
        },
        {
         "name": "y_pred",
         "type": "scatter",
         "x": [
          91,
          92,
          93,
          94,
          95,
          96,
          97,
          98,
          99,
          100,
          101,
          102,
          103,
          104,
          105,
          106,
          107,
          108,
          109,
          110,
          111,
          112,
          113,
          114,
          115,
          116,
          117,
          118,
          119,
          120,
          121,
          122,
          123,
          124,
          125,
          126,
          127,
          128,
          129,
          130,
          131,
          132,
          133,
          134,
          135,
          136,
          137,
          138,
          139,
          140,
          141,
          142,
          143,
          144,
          145,
          146,
          147,
          148,
          149,
          150,
          151,
          152,
          153,
          154,
          155,
          156,
          157,
          158,
          159,
          160,
          161,
          162,
          163,
          164,
          165,
          166,
          167,
          168,
          169,
          170,
          171,
          172,
          173,
          174,
          175,
          176,
          177,
          178,
          179,
          180,
          181,
          182,
          183,
          184,
          185,
          186,
          187,
          188,
          189,
          190,
          191,
          192,
          193,
          194,
          195,
          196,
          197,
          198,
          199,
          200,
          201,
          202,
          203,
          204,
          205,
          206,
          207,
          208,
          209,
          210,
          211,
          212,
          213,
          214,
          215,
          216,
          217,
          218,
          219,
          220,
          221,
          222,
          223,
          224,
          225,
          226,
          227,
          228,
          229,
          230,
          231,
          232,
          233,
          234,
          235,
          236,
          237,
          238,
          239,
          240,
          241,
          242,
          243,
          244,
          245,
          246,
          247,
          248,
          249,
          250,
          251,
          252,
          253,
          254,
          255,
          256,
          257,
          258,
          259,
          260,
          261,
          262,
          263,
          264,
          265,
          266,
          267,
          268,
          269,
          270,
          271,
          272,
          273,
          274,
          275,
          276,
          277,
          278,
          279,
          280,
          281,
          282,
          283,
          284,
          285,
          286,
          287,
          288,
          289,
          290,
          291,
          292,
          293,
          294,
          295,
          296,
          297,
          298,
          299,
          300,
          301,
          302,
          303,
          304,
          305,
          306,
          307,
          308,
          309,
          310,
          311,
          312,
          313,
          314,
          315,
          316,
          317,
          318,
          319,
          320,
          321,
          322,
          323,
          324,
          325,
          326,
          327,
          328,
          329,
          330,
          331,
          332,
          333,
          334,
          335,
          336,
          337,
          338,
          339,
          340,
          341,
          342,
          343,
          344,
          345,
          346,
          347,
          348,
          349,
          350,
          351,
          352,
          353,
          354,
          355,
          356,
          357,
          358,
          359,
          360,
          361,
          362,
          363,
          365
         ],
         "y": [
          127.82218692427816,
          229.40510540345755,
          263.75652814545606,
          244.60441025040495,
          225.05279065905177,
          202.49922061795988,
          169.6594575515731,
          187.03392714646733,
          275.79649063888445,
          358.25797735784386,
          375.54398939269566,
          244.75746906254065,
          268.5904622025793,
          320.1180776372281,
          260.93905716069725,
          344.39473849918943,
          239.38121785639802,
          254.26073787637134,
          226.05293470264968,
          289.9349720793548,
          280.926310744572,
          209.7643052108923,
          260.77715209543214,
          253.78137545126404,
          175.09294654036975,
          162.8355464616399,
          276.2560127922007,
          339.4480125972782,
          376.54575922023236,
          243.46477529505617,
          292.5916093959879,
          348.51432285577255,
          319.33233650499295,
          250.67375125493447,
          241.43411855813025,
          289.705748450411,
          256.77214794597006,
          199.80201462186736,
          257.39158083276214,
          276.71618617969494,
          288.576558282298,
          284.77667908988985,
          171.2272264125999,
          220.85068270037002,
          278.86707574557425,
          325.90669663411774,
          353.3393441308952,
          306.9133845041004,
          342.9061038275089,
          280.50158558429814,
          336.2924329301215,
          226.50650939585276,
          327.8307946799978,
          353.0418448799589,
          190.0636542590322,
          317.00687377030533,
          331.2585622472715,
          352.1598184891095,
          195.7779651715223,
          253.41142368224027,
          295.26378543874523,
          342.0530538899808,
          373.5762235512448,
          364.2228343410248,
          277.5180697691461,
          293.0271788849639,
          277.8432099247326,
          318.3360448758098,
          363.1994455763763,
          322.9217722358324,
          359.51593059590357,
          348.7593818289522,
          269.4156332904088,
          274.5152796072193,
          349.9058114441684,
          376.89666924803583,
          292.7162319643241,
          306.91214893285627,
          324.0143851498718,
          269.2511285051783,
          322.52398697212465,
          346.53292737219914,
          364.75383863606476,
          248.61216080249054,
          327.24807057068347,
          367.66267235672626,
          359.96164076643714,
          361.63068835655156,
          377.7712116932713,
          361.893894981845,
          347.6196368922964,
          228.11227145890578,
          343.1470425523317,
          345.66384428365404,
          364.2751840314996,
          348.09156324311795,
          345.08817591706423,
          273.87903615132194,
          337.09515641588064,
          359.85100319277194,
          360.3009619436445,
          328.59963809276184,
          313.7067427010646,
          335.77263881119984,
          297.7643687938351,
          340.90853796177834,
          373.2279285867805,
          348.0201570817834,
          359.32871970343325,
          335.0965325324336,
          264.8280727040267,
          301.8583341342574,
          288.46553381010705,
          285.03637766746095,
          295.8631723911569,
          335.1213953657362,
          348.84788278005703,
          293.0997144413926,
          335.5385041977627,
          320.0214139496313,
          348.7208031851369,
          295.84676216137353,
          332.00583054360044,
          356.0000106789884,
          364.5076097612828,
          355.87931202519144,
          370.60166470701074,
          361.50985928407323,
          245.29725228398408,
          342.2719491572127,
          366.42253338994414,
          364.75383863606476,
          355.8126813356688,
          361.3597996719955,
          345.6447802024809,
          347.7052964346048,
          259.86589295553784,
          337.2864525738137,
          351.373546598871,
          286.07277147615156,
          325.4499483173777,
          353.93293141057524,
          344.1192660122532,
          349.119946951204,
          344.36262628977937,
          358.5320189830681,
          369.11142168146444,
          287.5590268200956,
          351.45757784092666,
          360.37357157788426,
          282.87842309145896,
          340.25525648659544,
          372.8048937753647,
          323.81645911991154,
          306.5285307589851,
          263.7948342909439,
          333.3028041305343,
          351.73622867715926,
          283.67444802824735,
          342.5000205601214,
          368.81004982423246,
          364.74703556802837,
          367.0738213311937,
          362.3724845918766,
          366.68090501113375,
          367.12550131406795,
          347.61392664074975,
          378.59808792097124,
          342.08894038534453,
          363.33903548357836,
          292.9392436133821,
          311.63496418672327,
          335.0078268393418,
          346.83013282820485,
          371.9393167092168,
          360.9537657488996,
          357.4261326386835,
          357.512396157577,
          382.35395071634497,
          344.5671402122955,
          344.7517402761977,
          377.36347803117246,
          265.83014614625375,
          324.29467336963427,
          360.0007035243977,
          384.4129488750176,
          375.5251388912927,
          361.64829929743297,
          371.4916665224388,
          359.86802071330976,
          347.72395219790155,
          286.509165456688,
          339.31109378741826,
          343.9884693314795,
          308.5798568009014,
          349.11343190898947,
          376.76797184773136,
          292.65680277958137,
          267.1715451845802,
          261.52788934456663,
          332.7909659194195,
          367.88181962353747,
          366.4259641070605,
          366.49800155618635,
          366.6805384886089,
          365.5476104290265,
          286.66227238564545,
          336.7143986152173,
          258.64191498076735,
          289.12043843016863,
          364.8174326876964,
          187.9827102266288,
          221.47973281416256,
          234.75508200174326,
          253.5621474783041,
          353.81920662725736,
          344.7170927889947,
          282.25486731725016,
          246.59022407341044,
          270.4159728085947,
          268.4984012203996,
          238.4451890481693,
          252.8445660335254,
          246.01200355131593,
          145.80322699392974,
          162.5704319798145,
          163.19944588324378,
          193.1275352931363,
          221.4804057745587,
          262.1521031654118,
          195.55860438631458,
          167.87375410266486,
          167.4743031622449,
          217.86548224409498,
          229.96288806001925,
          243.2623531040689,
          118.2585814571762,
          131.99085068454156,
          229.69529108160845,
          168.99736124649075,
          200.4756636899293,
          161.0974100506956,
          244.77026697103008,
          174.7098074480174,
          189.90179964278158,
          225.12704952190666,
          141.21026062992036,
          199.88520768607296,
          199.82868005615427,
          188.6801137226353,
          218.66293405331825,
          169.89993259962543,
          105.44583040121448,
          116.30612339338003,
          219.02457793752885,
          218.5109527142981,
          136.56399942358007,
          139.11400881986262,
          109.95680109794728,
          83.19707852333892,
          110.23333528501053,
          181.63372450345466,
          172.69749469702288,
          217.3456694062569,
          149.79357005827646,
          187.68317386657583,
          117.19084371251232,
          60.147377037891644,
          50.17553170008636,
          57.88872880635052,
          67.51405753814451,
          71.17205243653393,
          56.26441684928347,
          29.55882164849459
         ]
        }
       ],
       "layout": {
        "autosize": true,
        "template": {
         "data": {
          "bar": [
           {
            "error_x": {
             "color": "#2a3f5f"
            },
            "error_y": {
             "color": "#2a3f5f"
            },
            "marker": {
             "line": {
              "color": "#E5ECF6",
              "width": 0.5
             },
             "pattern": {
              "fillmode": "overlay",
              "size": 10,
              "solidity": 0.2
             }
            },
            "type": "bar"
           }
          ],
          "barpolar": [
           {
            "marker": {
             "line": {
              "color": "#E5ECF6",
              "width": 0.5
             },
             "pattern": {
              "fillmode": "overlay",
              "size": 10,
              "solidity": 0.2
             }
            },
            "type": "barpolar"
           }
          ],
          "carpet": [
           {
            "aaxis": {
             "endlinecolor": "#2a3f5f",
             "gridcolor": "white",
             "linecolor": "white",
             "minorgridcolor": "white",
             "startlinecolor": "#2a3f5f"
            },
            "baxis": {
             "endlinecolor": "#2a3f5f",
             "gridcolor": "white",
             "linecolor": "white",
             "minorgridcolor": "white",
             "startlinecolor": "#2a3f5f"
            },
            "type": "carpet"
           }
          ],
          "choropleth": [
           {
            "colorbar": {
             "outlinewidth": 0,
             "ticks": ""
            },
            "type": "choropleth"
           }
          ],
          "contour": [
           {
            "colorbar": {
             "outlinewidth": 0,
             "ticks": ""
            },
            "colorscale": [
             [
              0,
              "#0d0887"
             ],
             [
              0.1111111111111111,
              "#46039f"
             ],
             [
              0.2222222222222222,
              "#7201a8"
             ],
             [
              0.3333333333333333,
              "#9c179e"
             ],
             [
              0.4444444444444444,
              "#bd3786"
             ],
             [
              0.5555555555555556,
              "#d8576b"
             ],
             [
              0.6666666666666666,
              "#ed7953"
             ],
             [
              0.7777777777777778,
              "#fb9f3a"
             ],
             [
              0.8888888888888888,
              "#fdca26"
             ],
             [
              1,
              "#f0f921"
             ]
            ],
            "type": "contour"
           }
          ],
          "contourcarpet": [
           {
            "colorbar": {
             "outlinewidth": 0,
             "ticks": ""
            },
            "type": "contourcarpet"
           }
          ],
          "heatmap": [
           {
            "colorbar": {
             "outlinewidth": 0,
             "ticks": ""
            },
            "colorscale": [
             [
              0,
              "#0d0887"
             ],
             [
              0.1111111111111111,
              "#46039f"
             ],
             [
              0.2222222222222222,
              "#7201a8"
             ],
             [
              0.3333333333333333,
              "#9c179e"
             ],
             [
              0.4444444444444444,
              "#bd3786"
             ],
             [
              0.5555555555555556,
              "#d8576b"
             ],
             [
              0.6666666666666666,
              "#ed7953"
             ],
             [
              0.7777777777777778,
              "#fb9f3a"
             ],
             [
              0.8888888888888888,
              "#fdca26"
             ],
             [
              1,
              "#f0f921"
             ]
            ],
            "type": "heatmap"
           }
          ],
          "heatmapgl": [
           {
            "colorbar": {
             "outlinewidth": 0,
             "ticks": ""
            },
            "colorscale": [
             [
              0,
              "#0d0887"
             ],
             [
              0.1111111111111111,
              "#46039f"
             ],
             [
              0.2222222222222222,
              "#7201a8"
             ],
             [
              0.3333333333333333,
              "#9c179e"
             ],
             [
              0.4444444444444444,
              "#bd3786"
             ],
             [
              0.5555555555555556,
              "#d8576b"
             ],
             [
              0.6666666666666666,
              "#ed7953"
             ],
             [
              0.7777777777777778,
              "#fb9f3a"
             ],
             [
              0.8888888888888888,
              "#fdca26"
             ],
             [
              1,
              "#f0f921"
             ]
            ],
            "type": "heatmapgl"
           }
          ],
          "histogram": [
           {
            "marker": {
             "pattern": {
              "fillmode": "overlay",
              "size": 10,
              "solidity": 0.2
             }
            },
            "type": "histogram"
           }
          ],
          "histogram2d": [
           {
            "colorbar": {
             "outlinewidth": 0,
             "ticks": ""
            },
            "colorscale": [
             [
              0,
              "#0d0887"
             ],
             [
              0.1111111111111111,
              "#46039f"
             ],
             [
              0.2222222222222222,
              "#7201a8"
             ],
             [
              0.3333333333333333,
              "#9c179e"
             ],
             [
              0.4444444444444444,
              "#bd3786"
             ],
             [
              0.5555555555555556,
              "#d8576b"
             ],
             [
              0.6666666666666666,
              "#ed7953"
             ],
             [
              0.7777777777777778,
              "#fb9f3a"
             ],
             [
              0.8888888888888888,
              "#fdca26"
             ],
             [
              1,
              "#f0f921"
             ]
            ],
            "type": "histogram2d"
           }
          ],
          "histogram2dcontour": [
           {
            "colorbar": {
             "outlinewidth": 0,
             "ticks": ""
            },
            "colorscale": [
             [
              0,
              "#0d0887"
             ],
             [
              0.1111111111111111,
              "#46039f"
             ],
             [
              0.2222222222222222,
              "#7201a8"
             ],
             [
              0.3333333333333333,
              "#9c179e"
             ],
             [
              0.4444444444444444,
              "#bd3786"
             ],
             [
              0.5555555555555556,
              "#d8576b"
             ],
             [
              0.6666666666666666,
              "#ed7953"
             ],
             [
              0.7777777777777778,
              "#fb9f3a"
             ],
             [
              0.8888888888888888,
              "#fdca26"
             ],
             [
              1,
              "#f0f921"
             ]
            ],
            "type": "histogram2dcontour"
           }
          ],
          "mesh3d": [
           {
            "colorbar": {
             "outlinewidth": 0,
             "ticks": ""
            },
            "type": "mesh3d"
           }
          ],
          "parcoords": [
           {
            "line": {
             "colorbar": {
              "outlinewidth": 0,
              "ticks": ""
             }
            },
            "type": "parcoords"
           }
          ],
          "pie": [
           {
            "automargin": true,
            "type": "pie"
           }
          ],
          "scatter": [
           {
            "fillpattern": {
             "fillmode": "overlay",
             "size": 10,
             "solidity": 0.2
            },
            "type": "scatter"
           }
          ],
          "scatter3d": [
           {
            "line": {
             "colorbar": {
              "outlinewidth": 0,
              "ticks": ""
             }
            },
            "marker": {
             "colorbar": {
              "outlinewidth": 0,
              "ticks": ""
             }
            },
            "type": "scatter3d"
           }
          ],
          "scattercarpet": [
           {
            "marker": {
             "colorbar": {
              "outlinewidth": 0,
              "ticks": ""
             }
            },
            "type": "scattercarpet"
           }
          ],
          "scattergeo": [
           {
            "marker": {
             "colorbar": {
              "outlinewidth": 0,
              "ticks": ""
             }
            },
            "type": "scattergeo"
           }
          ],
          "scattergl": [
           {
            "marker": {
             "colorbar": {
              "outlinewidth": 0,
              "ticks": ""
             }
            },
            "type": "scattergl"
           }
          ],
          "scattermapbox": [
           {
            "marker": {
             "colorbar": {
              "outlinewidth": 0,
              "ticks": ""
             }
            },
            "type": "scattermapbox"
           }
          ],
          "scatterpolar": [
           {
            "marker": {
             "colorbar": {
              "outlinewidth": 0,
              "ticks": ""
             }
            },
            "type": "scatterpolar"
           }
          ],
          "scatterpolargl": [
           {
            "marker": {
             "colorbar": {
              "outlinewidth": 0,
              "ticks": ""
             }
            },
            "type": "scatterpolargl"
           }
          ],
          "scatterternary": [
           {
            "marker": {
             "colorbar": {
              "outlinewidth": 0,
              "ticks": ""
             }
            },
            "type": "scatterternary"
           }
          ],
          "surface": [
           {
            "colorbar": {
             "outlinewidth": 0,
             "ticks": ""
            },
            "colorscale": [
             [
              0,
              "#0d0887"
             ],
             [
              0.1111111111111111,
              "#46039f"
             ],
             [
              0.2222222222222222,
              "#7201a8"
             ],
             [
              0.3333333333333333,
              "#9c179e"
             ],
             [
              0.4444444444444444,
              "#bd3786"
             ],
             [
              0.5555555555555556,
              "#d8576b"
             ],
             [
              0.6666666666666666,
              "#ed7953"
             ],
             [
              0.7777777777777778,
              "#fb9f3a"
             ],
             [
              0.8888888888888888,
              "#fdca26"
             ],
             [
              1,
              "#f0f921"
             ]
            ],
            "type": "surface"
           }
          ],
          "table": [
           {
            "cells": {
             "fill": {
              "color": "#EBF0F8"
             },
             "line": {
              "color": "white"
             }
            },
            "header": {
             "fill": {
              "color": "#C8D4E3"
             },
             "line": {
              "color": "white"
             }
            },
            "type": "table"
           }
          ]
         },
         "layout": {
          "annotationdefaults": {
           "arrowcolor": "#2a3f5f",
           "arrowhead": 0,
           "arrowwidth": 1
          },
          "autotypenumbers": "strict",
          "coloraxis": {
           "colorbar": {
            "outlinewidth": 0,
            "ticks": ""
           }
          },
          "colorscale": {
           "diverging": [
            [
             0,
             "#8e0152"
            ],
            [
             0.1,
             "#c51b7d"
            ],
            [
             0.2,
             "#de77ae"
            ],
            [
             0.3,
             "#f1b6da"
            ],
            [
             0.4,
             "#fde0ef"
            ],
            [
             0.5,
             "#f7f7f7"
            ],
            [
             0.6,
             "#e6f5d0"
            ],
            [
             0.7,
             "#b8e186"
            ],
            [
             0.8,
             "#7fbc41"
            ],
            [
             0.9,
             "#4d9221"
            ],
            [
             1,
             "#276419"
            ]
           ],
           "sequential": [
            [
             0,
             "#0d0887"
            ],
            [
             0.1111111111111111,
             "#46039f"
            ],
            [
             0.2222222222222222,
             "#7201a8"
            ],
            [
             0.3333333333333333,
             "#9c179e"
            ],
            [
             0.4444444444444444,
             "#bd3786"
            ],
            [
             0.5555555555555556,
             "#d8576b"
            ],
            [
             0.6666666666666666,
             "#ed7953"
            ],
            [
             0.7777777777777778,
             "#fb9f3a"
            ],
            [
             0.8888888888888888,
             "#fdca26"
            ],
            [
             1,
             "#f0f921"
            ]
           ],
           "sequentialminus": [
            [
             0,
             "#0d0887"
            ],
            [
             0.1111111111111111,
             "#46039f"
            ],
            [
             0.2222222222222222,
             "#7201a8"
            ],
            [
             0.3333333333333333,
             "#9c179e"
            ],
            [
             0.4444444444444444,
             "#bd3786"
            ],
            [
             0.5555555555555556,
             "#d8576b"
            ],
            [
             0.6666666666666666,
             "#ed7953"
            ],
            [
             0.7777777777777778,
             "#fb9f3a"
            ],
            [
             0.8888888888888888,
             "#fdca26"
            ],
            [
             1,
             "#f0f921"
            ]
           ]
          },
          "colorway": [
           "#636efa",
           "#EF553B",
           "#00cc96",
           "#ab63fa",
           "#FFA15A",
           "#19d3f3",
           "#FF6692",
           "#B6E880",
           "#FF97FF",
           "#FECB52"
          ],
          "font": {
           "color": "#2a3f5f"
          },
          "geo": {
           "bgcolor": "white",
           "lakecolor": "white",
           "landcolor": "#E5ECF6",
           "showlakes": true,
           "showland": true,
           "subunitcolor": "white"
          },
          "hoverlabel": {
           "align": "left"
          },
          "hovermode": "closest",
          "mapbox": {
           "style": "light"
          },
          "paper_bgcolor": "white",
          "plot_bgcolor": "#E5ECF6",
          "polar": {
           "angularaxis": {
            "gridcolor": "white",
            "linecolor": "white",
            "ticks": ""
           },
           "bgcolor": "#E5ECF6",
           "radialaxis": {
            "gridcolor": "white",
            "linecolor": "white",
            "ticks": ""
           }
          },
          "scene": {
           "xaxis": {
            "backgroundcolor": "#E5ECF6",
            "gridcolor": "white",
            "gridwidth": 2,
            "linecolor": "white",
            "showbackground": true,
            "ticks": "",
            "zerolinecolor": "white"
           },
           "yaxis": {
            "backgroundcolor": "#E5ECF6",
            "gridcolor": "white",
            "gridwidth": 2,
            "linecolor": "white",
            "showbackground": true,
            "ticks": "",
            "zerolinecolor": "white"
           },
           "zaxis": {
            "backgroundcolor": "#E5ECF6",
            "gridcolor": "white",
            "gridwidth": 2,
            "linecolor": "white",
            "showbackground": true,
            "ticks": "",
            "zerolinecolor": "white"
           }
          },
          "shapedefaults": {
           "line": {
            "color": "#2a3f5f"
           }
          },
          "ternary": {
           "aaxis": {
            "gridcolor": "white",
            "linecolor": "white",
            "ticks": ""
           },
           "baxis": {
            "gridcolor": "white",
            "linecolor": "white",
            "ticks": ""
           },
           "bgcolor": "#E5ECF6",
           "caxis": {
            "gridcolor": "white",
            "linecolor": "white",
            "ticks": ""
           }
          },
          "title": {
           "x": 0.05
          },
          "xaxis": {
           "automargin": true,
           "gridcolor": "white",
           "linecolor": "white",
           "ticks": "",
           "title": {
            "standoff": 15
           },
           "zerolinecolor": "white",
           "zerolinewidth": 2
          },
          "yaxis": {
           "automargin": true,
           "gridcolor": "white",
           "linecolor": "white",
           "ticks": "",
           "title": {
            "standoff": 15
           },
           "zerolinecolor": "white",
           "zerolinewidth": 2
          }
         }
        },
        "title": {
         "text": "Predicting the Overal Bike Mobility of NYC | 2017"
        },
        "xaxis": {
         "autorange": true,
         "range": [
          91,
          365
         ],
         "title": {
          "text": "day"
         },
         "type": "linear"
        },
        "yaxis": {
         "autorange": true,
         "range": [
          -10.057325437646572,
          734.5767862984786
         ],
         "title": {
          "text": "mobility_index"
         },
         "type": "linear"
        }
       }
      },
      "image/png": "[encoded data removed]",
      "text/html": [
       "<div>                            <div id=\"7fb15a8a-706a-4c02-bf6c-913c42da7975\" class=\"plotly-graph-div\" style=\"height:525px; width:100%;\"></div>            <script type=\"text/javascript\">                require([\"plotly\"], function(Plotly) {                    window.PLOTLYENV=window.PLOTLYENV || {};                                    if (document.getElementById(\"7fb15a8a-706a-4c02-bf6c-913c42da7975\")) {                    Plotly.newPlot(                        \"7fb15a8a-706a-4c02-bf6c-913c42da7975\",                        [{\"name\":\"y_true\",\"x\":[91,92,93,94,95,96,97,98,99,100,101,102,103,104,105,106,107,108,109,110,111,112,113,114,115,116,117,118,119,120,121,122,123,124,125,126,127,128,129,130,131,132,133,134,135,136,137,138,139,140,141,142,143,144,145,146,147,148,149,150,151,152,153,154,155,156,157,158,159,160,161,162,163,164,165,166,167,168,169,170,171,172,173,174,175,176,177,178,179,180,181,182,183,184,185,186,187,188,189,190,191,192,193,194,195,196,197,198,199,200,201,202,203,204,205,206,207,208,209,210,211,212,213,214,215,216,217,218,219,220,221,222,223,224,225,226,227,228,229,230,231,232,233,234,235,236,237,238,239,240,241,242,243,244,245,246,247,248,249,250,251,252,253,254,255,256,257,258,259,260,261,262,263,264,265,266,267,268,269,270,271,272,273,274,275,276,277,278,279,280,281,282,283,284,285,286,287,288,289,290,291,292,293,294,295,296,297,298,299,300,301,302,303,304,305,306,307,308,309,310,311,312,313,314,315,316,317,318,319,320,321,322,323,324,325,326,327,328,329,330,331,332,333,334,335,336,337,338,339,340,341,342,343,344,345,346,347,348,349,350,351,352,353,354,355,356,357,358,359,360,361,362,363,365],\"y\":[344.4448208685602,290.14602473425583,186.41918663177216,344.3734128046473,106.63820654857669,161.41633583283038,254.93443530674904,376.6242158461705,390.27183426602636,494.03275307146737,275.07786762448603,302.34459647477996,368.8200540111324,304.9071425125745,546.611771755892,300.2574372710692,291.2285979875139,213.4475592312552,321.28814009949133,193.33943508641818,216.39911504327014,374.2610293391093,251.58420339471542,86.80085613573559,176.59000625886924,287.2289792396781,383.4810225168314,476.41566256556683,283.50941389660454,324.8864314122324,405.22301962761264,383.4563810577329,356.02942441847694,114.30284187523529,306.2862234051759,194.13762196601652,266.8715436747921,289.47052961277376,333.44586164032455,292.514305241579,312.33997014056615,40.893535517272404,250.53643505168077,286.50949773280166,366.7463356032935,415.23981264389784,358.1089978579422,362.17925750097675,319.78240272085895,429.3147501748838,112.66453160544845,351.6270420957134,371.5565509518477,74.92852749391513,349.1400038714402,344.1645587939077,429.2698431870324,147.62761360571872,269.8136786549974,333.4937697921857,391.9149500806386,400.91002780342166,402.01130769860555,261.7141016288649,321.8416124339759,188.12195134824685,376.9830973706489,359.69252000683946,477.24054691641754,450.02972318466095,386.45512695169253,334.4533260077927,341.3027678587977,388.2542296466151,439.1475945455655,344.67068761270474,237.4630945818372,413.9513313077624,227.5742898564707,414.26418884674166,431.8978256474689,427.63092531962394,334.128838191107,397.6523103009646,467.00260064056744,464.5690862431429,392.85192084930117,491.80299254717073,412.16123210486916,423.66044057087663,312.280744715834,426.3172624376154,380.0310402599094,466.23081663943526,399.96725110193046,404.92413683393033,256.4484396954451,410.80852954133496,429.02526366361235,371.56350456907273,360.0102751508898,352.3927869447279,360.45152604586883,193.73792092859574,395.20617137518,449.7379351672471,383.2363386584662,406.24437895483146,381.7030691290205,333.6588338127217,348.70195053566175,335.3707493176188,302.16371650403306,242.24772331943714,358.07094628972044,416.2813699890227,354.58211460911406,359.2277446504098,338.54527504471366,415.8399226988529,347.61603242680997,433.7654395772397,414.3286617054787,466.6624994062114,384.93882105685407,530.2915093817369,468.89642105361355,105.85300630097146,435.3411120558538,545.7587537939562,399.1927850789736,452.90113748412114,515.7025258508238,460.7283143805837,527.5619046847495,300.65582491565135,451.5039820966144,431.7990756905838,230.8622706303635,556.4658022577837,414.6758270293546,413.9740701884498,438.95782155508414,485.40641345680206,488.2971542705091,401.69470023895155,353.11379051433323,454.4450982767672,377.2035939337944,192.60934823923733,393.1692893403196,369.67299832487174,341.44822304700017,298.0205144596573,229.12120271432883,462.9797397493678,417.99694335434884,216.2207820726542,431.7567157028634,407.19013840828325,420.1638267308339,420.1482501372618,432.87631558694113,424.60576427249885,411.3155114517422,387.87625482717897,459.1625659964558,412.53917010020695,412.5193955594311,346.1593938458831,297.9086244370363,401.53189476310996,376.5469650253307,445.21123468869337,505.05185508146167,392.20949376807374,374.39628425208844,371.7649876228068,369.4731109820631,373.4298173807043,366.910663141864,286.4535680648654,428.7269516434534,387.3240467867353,393.0267309811818,459.93740026039546,396.1995996238541,697.3450807116724,630.6394971104744,411.54216991399977,212.42440779792014,433.7475123787275,359.5013906620715,477.17290104787884,433.58393973417174,484.8714329570033,345.696852484749,305.2673803913395,346.30651839320745,426.32316043068977,424.8585862565837,468.78849575890723,439.79528747284684,473.5577933969236,413.801745683203,234.55691833360154,428.3984070386072,352.9242630178404,477.4618597470749,478.52890550555867,51.02244563811805,253.5308050152949,309.1699553655105,324.21723934890576,415.2823628894593,463.9660179856261,421.38880490948696,185.4961783337071,303.4238739712421,192.49089125242318,293.5687387464021,322.9271561644952,194.09680245307413,142.35618870091824,177.75080003422187,178.2103586433953,262.5920740547346,253.91230267346637,240.32200709993165,264.710269835945,149.2625360584639,180.39499737260059,207.3590996458872,289.75438203700844,180.08804396404545,88.57613977642126,165.18631336644802,285.43157045327644,137.07766288249957,225.08172801745562,246.02790726562782,271.9917995188072,227.54865414671875,242.29345884949979,207.7111871242331,163.3425737270615,235.03883530778012,191.34768712134854,208.11465035702804,203.92817385982465,177.49907663573566,54.846573008255106,101.08906043190494,200.11581792643747,191.86462381299054,141.79532086002928,134.69011723442676,99.19385297782367,86.02618144288846,95.98585414539308,188.75822266771198,215.58590393157394,216.6007085692991,161.37053279192088,183.50721672540723,61.22602889292399,63.99969362350232,39.9590994740414,61.07772597445463,82.70197189363874,54.43348641110988,55.30230191120752,27.174380149159692,42.06965425485885],\"type\":\"scatter\"},{\"name\":\"y_pred\",\"x\":[91,92,93,94,95,96,97,98,99,100,101,102,103,104,105,106,107,108,109,110,111,112,113,114,115,116,117,118,119,120,121,122,123,124,125,126,127,128,129,130,131,132,133,134,135,136,137,138,139,140,141,142,143,144,145,146,147,148,149,150,151,152,153,154,155,156,157,158,159,160,161,162,163,164,165,166,167,168,169,170,171,172,173,174,175,176,177,178,179,180,181,182,183,184,185,186,187,188,189,190,191,192,193,194,195,196,197,198,199,200,201,202,203,204,205,206,207,208,209,210,211,212,213,214,215,216,217,218,219,220,221,222,223,224,225,226,227,228,229,230,231,232,233,234,235,236,237,238,239,240,241,242,243,244,245,246,247,248,249,250,251,252,253,254,255,256,257,258,259,260,261,262,263,264,265,266,267,268,269,270,271,272,273,274,275,276,277,278,279,280,281,282,283,284,285,286,287,288,289,290,291,292,293,294,295,296,297,298,299,300,301,302,303,304,305,306,307,308,309,310,311,312,313,314,315,316,317,318,319,320,321,322,323,324,325,326,327,328,329,330,331,332,333,334,335,336,337,338,339,340,341,342,343,344,345,346,347,348,349,350,351,352,353,354,355,356,357,358,359,360,361,362,363,365],\"y\":[127.82218692427816,229.40510540345755,263.75652814545606,244.60441025040495,225.05279065905177,202.49922061795988,169.6594575515731,187.03392714646733,275.79649063888445,358.25797735784386,375.54398939269566,244.75746906254065,268.5904622025793,320.1180776372281,260.93905716069725,344.39473849918943,239.38121785639802,254.26073787637134,226.05293470264968,289.9349720793548,280.926310744572,209.7643052108923,260.77715209543214,253.78137545126404,175.09294654036975,162.8355464616399,276.2560127922007,339.4480125972782,376.54575922023236,243.46477529505617,292.5916093959879,348.51432285577255,319.33233650499295,250.67375125493447,241.43411855813025,289.705748450411,256.77214794597006,199.80201462186736,257.39158083276214,276.71618617969494,288.576558282298,284.77667908988985,171.2272264125999,220.85068270037002,278.86707574557425,325.90669663411774,353.3393441308952,306.9133845041004,342.9061038275089,280.50158558429814,336.2924329301215,226.50650939585276,327.8307946799978,353.0418448799589,190.0636542590322,317.00687377030533,331.2585622472715,352.1598184891095,195.7779651715223,253.41142368224027,295.26378543874523,342.0530538899808,373.5762235512448,364.2228343410248,277.5180697691461,293.0271788849639,277.8432099247326,318.3360448758098,363.1994455763763,322.9217722358324,359.51593059590357,348.7593818289522,269.4156332904088,274.5152796072193,349.9058114441684,376.89666924803583,292.7162319643241,306.91214893285627,324.0143851498718,269.2511285051783,322.52398697212465,346.53292737219914,364.75383863606476,248.61216080249054,327.24807057068347,367.66267235672626,359.96164076643714,361.63068835655156,377.7712116932713,361.893894981845,347.6196368922964,228.11227145890578,343.1470425523317,345.66384428365404,364.2751840314996,348.09156324311795,345.08817591706423,273.87903615132194,337.09515641588064,359.85100319277194,360.3009619436445,328.59963809276184,313.7067427010646,335.77263881119984,297.7643687938351,340.90853796177834,373.2279285867805,348.0201570817834,359.32871970343325,335.0965325324336,264.8280727040267,301.8583341342574,288.46553381010705,285.03637766746095,295.8631723911569,335.1213953657362,348.84788278005703,293.0997144413926,335.5385041977627,320.0214139496313,348.7208031851369,295.84676216137353,332.00583054360044,356.0000106789884,364.5076097612828,355.87931202519144,370.60166470701074,361.50985928407323,245.29725228398408,342.2719491572127,366.42253338994414,364.75383863606476,355.8126813356688,361.3597996719955,345.6447802024809,347.7052964346048,259.86589295553784,337.2864525738137,351.373546598871,286.07277147615156,325.4499483173777,353.93293141057524,344.1192660122532,349.119946951204,344.36262628977937,358.5320189830681,369.11142168146444,287.5590268200956,351.45757784092666,360.37357157788426,282.87842309145896,340.25525648659544,372.8048937753647,323.81645911991154,306.5285307589851,263.7948342909439,333.3028041305343,351.73622867715926,283.67444802824735,342.5000205601214,368.81004982423246,364.74703556802837,367.0738213311937,362.3724845918766,366.68090501113375,367.12550131406795,347.61392664074975,378.59808792097124,342.08894038534453,363.33903548357836,292.9392436133821,311.63496418672327,335.0078268393418,346.83013282820485,371.9393167092168,360.9537657488996,357.4261326386835,357.512396157577,382.35395071634497,344.5671402122955,344.7517402761977,377.36347803117246,265.83014614625375,324.29467336963427,360.0007035243977,384.4129488750176,375.5251388912927,361.64829929743297,371.4916665224388,359.86802071330976,347.72395219790155,286.509165456688,339.31109378741826,343.9884693314795,308.5798568009014,349.11343190898947,376.76797184773136,292.65680277958137,267.1715451845802,261.52788934456663,332.7909659194195,367.88181962353747,366.4259641070605,366.49800155618635,366.6805384886089,365.5476104290265,286.66227238564545,336.7143986152173,258.64191498076735,289.12043843016863,364.8174326876964,187.9827102266288,221.47973281416256,234.75508200174326,253.5621474783041,353.81920662725736,344.7170927889947,282.25486731725016,246.59022407341044,270.4159728085947,268.4984012203996,238.4451890481693,252.8445660335254,246.01200355131593,145.80322699392974,162.5704319798145,163.19944588324378,193.1275352931363,221.4804057745587,262.1521031654118,195.55860438631458,167.87375410266486,167.4743031622449,217.86548224409498,229.96288806001925,243.2623531040689,118.2585814571762,131.99085068454156,229.69529108160845,168.99736124649075,200.4756636899293,161.0974100506956,244.77026697103008,174.7098074480174,189.90179964278158,225.12704952190666,141.21026062992036,199.88520768607296,199.82868005615427,188.6801137226353,218.66293405331825,169.89993259962543,105.44583040121448,116.30612339338003,219.02457793752885,218.5109527142981,136.56399942358007,139.11400881986262,109.95680109794728,83.19707852333892,110.23333528501053,181.63372450345466,172.69749469702288,217.3456694062569,149.79357005827646,187.68317386657583,117.19084371251232,60.147377037891644,50.17553170008636,57.88872880635052,67.51405753814451,71.17205243653393,56.26441684928347,29.55882164849459],\"type\":\"scatter\"}],                        {\"template\":{\"data\":{\"histogram2dcontour\":[{\"type\":\"histogram2dcontour\",\"colorbar\":{\"outlinewidth\":0,\"ticks\":\"\"},\"colorscale\":[[0.0,\"#0d0887\"],[0.1111111111111111,\"#46039f\"],[0.2222222222222222,\"#7201a8\"],[0.3333333333333333,\"#9c179e\"],[0.4444444444444444,\"#bd3786\"],[0.5555555555555556,\"#d8576b\"],[0.6666666666666666,\"#ed7953\"],[0.7777777777777778,\"#fb9f3a\"],[0.8888888888888888,\"#fdca26\"],[1.0,\"#f0f921\"]]}],\"choropleth\":[{\"type\":\"choropleth\",\"colorbar\":{\"outlinewidth\":0,\"ticks\":\"\"}}],\"histogram2d\":[{\"type\":\"histogram2d\",\"colorbar\":{\"outlinewidth\":0,\"ticks\":\"\"},\"colorscale\":[[0.0,\"#0d0887\"],[0.1111111111111111,\"#46039f\"],[0.2222222222222222,\"#7201a8\"],[0.3333333333333333,\"#9c179e\"],[0.4444444444444444,\"#bd3786\"],[0.5555555555555556,\"#d8576b\"],[0.6666666666666666,\"#ed7953\"],[0.7777777777777778,\"#fb9f3a\"],[0.8888888888888888,\"#fdca26\"],[1.0,\"#f0f921\"]]}],\"heatmap\":[{\"type\":\"heatmap\",\"colorbar\":{\"outlinewidth\":0,\"ticks\":\"\"},\"colorscale\":[[0.0,\"#0d0887\"],[0.1111111111111111,\"#46039f\"],[0.2222222222222222,\"#7201a8\"],[0.3333333333333333,\"#9c179e\"],[0.4444444444444444,\"#bd3786\"],[0.5555555555555556,\"#d8576b\"],[0.6666666666666666,\"#ed7953\"],[0.7777777777777778,\"#fb9f3a\"],[0.8888888888888888,\"#fdca26\"],[1.0,\"#f0f921\"]]}],\"heatmapgl\":[{\"type\":\"heatmapgl\",\"colorbar\":{\"outlinewidth\":0,\"ticks\":\"\"},\"colorscale\":[[0.0,\"#0d0887\"],[0.1111111111111111,\"#46039f\"],[0.2222222222222222,\"#7201a8\"],[0.3333333333333333,\"#9c179e\"],[0.4444444444444444,\"#bd3786\"],[0.5555555555555556,\"#d8576b\"],[0.6666666666666666,\"#ed7953\"],[0.7777777777777778,\"#fb9f3a\"],[0.8888888888888888,\"#fdca26\"],[1.0,\"#f0f921\"]]}],\"contourcarpet\":[{\"type\":\"contourcarpet\",\"colorbar\":{\"outlinewidth\":0,\"ticks\":\"\"}}],\"contour\":[{\"type\":\"contour\",\"colorbar\":{\"outlinewidth\":0,\"ticks\":\"\"},\"colorscale\":[[0.0,\"#0d0887\"],[0.1111111111111111,\"#46039f\"],[0.2222222222222222,\"#7201a8\"],[0.3333333333333333,\"#9c179e\"],[0.4444444444444444,\"#bd3786\"],[0.5555555555555556,\"#d8576b\"],[0.6666666666666666,\"#ed7953\"],[0.7777777777777778,\"#fb9f3a\"],[0.8888888888888888,\"#fdca26\"],[1.0,\"#f0f921\"]]}],\"surface\":[{\"type\":\"surface\",\"colorbar\":{\"outlinewidth\":0,\"ticks\":\"\"},\"colorscale\":[[0.0,\"#0d0887\"],[0.1111111111111111,\"#46039f\"],[0.2222222222222222,\"#7201a8\"],[0.3333333333333333,\"#9c179e\"],[0.4444444444444444,\"#bd3786\"],[0.5555555555555556,\"#d8576b\"],[0.6666666666666666,\"#ed7953\"],[0.7777777777777778,\"#fb9f3a\"],[0.8888888888888888,\"#fdca26\"],[1.0,\"#f0f921\"]]}],\"mesh3d\":[{\"type\":\"mesh3d\",\"colorbar\":{\"outlinewidth\":0,\"ticks\":\"\"}}],\"scatter\":[{\"fillpattern\":{\"fillmode\":\"overlay\",\"size\":10,\"solidity\":0.2},\"type\":\"scatter\"}],\"parcoords\":[{\"type\":\"parcoords\",\"line\":{\"colorbar\":{\"outlinewidth\":0,\"ticks\":\"\"}}}],\"scatterpolargl\":[{\"type\":\"scatterpolargl\",\"marker\":{\"colorbar\":{\"outlinewidth\":0,\"ticks\":\"\"}}}],\"bar\":[{\"error_x\":{\"color\":\"#2a3f5f\"},\"error_y\":{\"color\":\"#2a3f5f\"},\"marker\":{\"line\":{\"color\":\"#E5ECF6\",\"width\":0.5},\"pattern\":{\"fillmode\":\"overlay\",\"size\":10,\"solidity\":0.2}},\"type\":\"bar\"}],\"scattergeo\":[{\"type\":\"scattergeo\",\"marker\":{\"colorbar\":{\"outlinewidth\":0,\"ticks\":\"\"}}}],\"scatterpolar\":[{\"type\":\"scatterpolar\",\"marker\":{\"colorbar\":{\"outlinewidth\":0,\"ticks\":\"\"}}}],\"histogram\":[{\"marker\":{\"pattern\":{\"fillmode\":\"overlay\",\"size\":10,\"solidity\":0.2}},\"type\":\"histogram\"}],\"scattergl\":[{\"type\":\"scattergl\",\"marker\":{\"colorbar\":{\"outlinewidth\":0,\"ticks\":\"\"}}}],\"scatter3d\":[{\"type\":\"scatter3d\",\"line\":{\"colorbar\":{\"outlinewidth\":0,\"ticks\":\"\"}},\"marker\":{\"colorbar\":{\"outlinewidth\":0,\"ticks\":\"\"}}}],\"scattermapbox\":[{\"type\":\"scattermapbox\",\"marker\":{\"colorbar\":{\"outlinewidth\":0,\"ticks\":\"\"}}}],\"scatterternary\":[{\"type\":\"scatterternary\",\"marker\":{\"colorbar\":{\"outlinewidth\":0,\"ticks\":\"\"}}}],\"scattercarpet\":[{\"type\":\"scattercarpet\",\"marker\":{\"colorbar\":{\"outlinewidth\":0,\"ticks\":\"\"}}}],\"carpet\":[{\"aaxis\":{\"endlinecolor\":\"#2a3f5f\",\"gridcolor\":\"white\",\"linecolor\":\"white\",\"minorgridcolor\":\"white\",\"startlinecolor\":\"#2a3f5f\"},\"baxis\":{\"endlinecolor\":\"#2a3f5f\",\"gridcolor\":\"white\",\"linecolor\":\"white\",\"minorgridcolor\":\"white\",\"startlinecolor\":\"#2a3f5f\"},\"type\":\"carpet\"}],\"table\":[{\"cells\":{\"fill\":{\"color\":\"#EBF0F8\"},\"line\":{\"color\":\"white\"}},\"header\":{\"fill\":{\"color\":\"#C8D4E3\"},\"line\":{\"color\":\"white\"}},\"type\":\"table\"}],\"barpolar\":[{\"marker\":{\"line\":{\"color\":\"#E5ECF6\",\"width\":0.5},\"pattern\":{\"fillmode\":\"overlay\",\"size\":10,\"solidity\":0.2}},\"type\":\"barpolar\"}],\"pie\":[{\"automargin\":true,\"type\":\"pie\"}]},\"layout\":{\"autotypenumbers\":\"strict\",\"colorway\":[\"#636efa\",\"#EF553B\",\"#00cc96\",\"#ab63fa\",\"#FFA15A\",\"#19d3f3\",\"#FF6692\",\"#B6E880\",\"#FF97FF\",\"#FECB52\"],\"font\":{\"color\":\"#2a3f5f\"},\"hovermode\":\"closest\",\"hoverlabel\":{\"align\":\"left\"},\"paper_bgcolor\":\"white\",\"plot_bgcolor\":\"#E5ECF6\",\"polar\":{\"bgcolor\":\"#E5ECF6\",\"angularaxis\":{\"gridcolor\":\"white\",\"linecolor\":\"white\",\"ticks\":\"\"},\"radialaxis\":{\"gridcolor\":\"white\",\"linecolor\":\"white\",\"ticks\":\"\"}},\"ternary\":{\"bgcolor\":\"#E5ECF6\",\"aaxis\":{\"gridcolor\":\"white\",\"linecolor\":\"white\",\"ticks\":\"\"},\"baxis\":{\"gridcolor\":\"white\",\"linecolor\":\"white\",\"ticks\":\"\"},\"caxis\":{\"gridcolor\":\"white\",\"linecolor\":\"white\",\"ticks\":\"\"}},\"coloraxis\":{\"colorbar\":{\"outlinewidth\":0,\"ticks\":\"\"}},\"colorscale\":{\"sequential\":[[0.0,\"#0d0887\"],[0.1111111111111111,\"#46039f\"],[0.2222222222222222,\"#7201a8\"],[0.3333333333333333,\"#9c179e\"],[0.4444444444444444,\"#bd3786\"],[0.5555555555555556,\"#d8576b\"],[0.6666666666666666,\"#ed7953\"],[0.7777777777777778,\"#fb9f3a\"],[0.8888888888888888,\"#fdca26\"],[1.0,\"#f0f921\"]],\"sequentialminus\":[[0.0,\"#0d0887\"],[0.1111111111111111,\"#46039f\"],[0.2222222222222222,\"#7201a8\"],[0.3333333333333333,\"#9c179e\"],[0.4444444444444444,\"#bd3786\"],[0.5555555555555556,\"#d8576b\"],[0.6666666666666666,\"#ed7953\"],[0.7777777777777778,\"#fb9f3a\"],[0.8888888888888888,\"#fdca26\"],[1.0,\"#f0f921\"]],\"diverging\":[[0,\"#8e0152\"],[0.1,\"#c51b7d\"],[0.2,\"#de77ae\"],[0.3,\"#f1b6da\"],[0.4,\"#fde0ef\"],[0.5,\"#f7f7f7\"],[0.6,\"#e6f5d0\"],[0.7,\"#b8e186\"],[0.8,\"#7fbc41\"],[0.9,\"#4d9221\"],[1,\"#276419\"]]},\"xaxis\":{\"gridcolor\":\"white\",\"linecolor\":\"white\",\"ticks\":\"\",\"title\":{\"standoff\":15},\"zerolinecolor\":\"white\",\"automargin\":true,\"zerolinewidth\":2},\"yaxis\":{\"gridcolor\":\"white\",\"linecolor\":\"white\",\"ticks\":\"\",\"title\":{\"standoff\":15},\"zerolinecolor\":\"white\",\"automargin\":true,\"zerolinewidth\":2},\"scene\":{\"xaxis\":{\"backgroundcolor\":\"#E5ECF6\",\"gridcolor\":\"white\",\"linecolor\":\"white\",\"showbackground\":true,\"ticks\":\"\",\"zerolinecolor\":\"white\",\"gridwidth\":2},\"yaxis\":{\"backgroundcolor\":\"#E5ECF6\",\"gridcolor\":\"white\",\"linecolor\":\"white\",\"showbackground\":true,\"ticks\":\"\",\"zerolinecolor\":\"white\",\"gridwidth\":2},\"zaxis\":{\"backgroundcolor\":\"#E5ECF6\",\"gridcolor\":\"white\",\"linecolor\":\"white\",\"showbackground\":true,\"ticks\":\"\",\"zerolinecolor\":\"white\",\"gridwidth\":2}},\"shapedefaults\":{\"line\":{\"color\":\"#2a3f5f\"}},\"annotationdefaults\":{\"arrowcolor\":\"#2a3f5f\",\"arrowhead\":0,\"arrowwidth\":1},\"geo\":{\"bgcolor\":\"white\",\"landcolor\":\"#E5ECF6\",\"subunitcolor\":\"white\",\"showland\":true,\"showlakes\":true,\"lakecolor\":\"white\"},\"title\":{\"x\":0.05},\"mapbox\":{\"style\":\"light\"}}},\"title\":{\"text\":\"Predicting the Overal Bike Mobility of NYC | 2017\"},\"yaxis\":{\"title\":{\"text\":\"mobility_index\"}},\"xaxis\":{\"title\":{\"text\":\"day\"}}},                        {\"responsive\": true}                    ).then(function(){\n",
       "                            \n",
       "var gd = document.getElementById('7fb15a8a-706a-4c02-bf6c-913c42da7975');\n",
       "var x = new MutationObserver(function (mutations, observer) {{\n",
       "        var display = window.getComputedStyle(gd).display;\n",
       "        if (!display || display === 'none') {{\n",
       "            console.log([gd, 'removed!']);\n",
       "            Plotly.purge(gd);\n",
       "            observer.disconnect();\n",
       "        }}\n",
       "}});\n",
       "\n",
       "// Listen for the removal of the full notebook cells\n",
       "var notebookContainer = gd.closest('#notebook-container');\n",
       "if (notebookContainer) {{\n",
       "    x.observe(notebookContainer, {childList: true});\n",
       "}}\n",
       "\n",
       "// Listen for the clearing of the current output cell\n",
       "var outputEl = gd.closest('.output');\n",
       "if (outputEl) {{\n",
       "    x.observe(outputEl, {childList: true});\n",
       "}}\n",
       "\n",
       "                        })                };                });            </script>        </div>"
      ]
     },
     "metadata": {},
     "output_type": "display_data"
    }
   ],
   "source": [
    "mask = (df['year'] == 2017)\n",
    "y_pred = rfr.predict(df.loc[mask, X])\n",
    "y_true = df.loc[mask, y]\n",
    "\n",
    "fig = go.Figure()\n",
    "for y_val, name in zip([y_true, y_pred], ['y_true', 'y_pred']):\n",
    "    fig.add_trace(\n",
    "        go.Scatter(\n",
    "            x=df.loc[mask, 'day_of_year'],\n",
    "            y=y_val,\n",
    "            name=name\n",
    "        )\n",
    "    )\n",
    "   \n",
    "fig.update_layout(\n",
    "    title='Predicting the Overal Bike Mobility of NYC | 2017',\n",
    "    yaxis=dict(title='mobility_index'),\n",
    "    xaxis=dict(title='day')\n",
    ")\n",
    "fig.show()"
   ]
  },
  {
   "cell_type": "code",
   "execution_count": null,
   "id": "7a7ad2c0-1a39-4313-b44a-4a2c1284fd0f",
   "metadata": {},
   "outputs": [],
   "source": []
  },
  {
   "cell_type": "code",
   "execution_count": null,
   "id": "265fb8ef-dd73-4e4f-9a8a-a086d5140561",
   "metadata": {},
   "outputs": [],
   "source": []
  },
  {
   "cell_type": "code",
   "execution_count": null,
   "id": "776702db-cc9e-455a-8455-1195e110d778",
   "metadata": {},
   "outputs": [],
   "source": []
  },
  {
   "cell_type": "markdown",
   "id": "4f35e4a6-c873-4fe9-ade4-38af5de37cf7",
   "metadata": {},
   "source": [
    "### Scenario Analysis"
   ]
  },
  {
   "cell_type": "code",
   "execution_count": null,
   "id": "b3a51553-f051-4160-a5d4-f8ad5423ddd1",
   "metadata": {},
   "outputs": [],
   "source": [
    "# Augment 2017 \n",
    "df_scenario = df.loc[df['year']==2017, :]\n",
    "\n",
    "\n",
    "df_scenario.loc[:, 'avg_tmax'] = df_scenario.loc[:, 'avg_tmax'] * 3.0\n",
    "df_scenario.loc[:, 'avg_tmin'] = df_scenario.loc[:, 'avg_tmax'] * 0.5\n",
    "df_scenario.loc[:, 'avg_wind'] = df_scenario.loc[:, 'avg_wind'] * 3.0\n",
    "\n",
    "\n",
    "y_pred_scenario = rfr.predict(df_scenario[X])"
   ]
  },
  {
   "cell_type": "code",
   "execution_count": null,
   "id": "bf6a69d2-2a72-4827-b989-1b0bf3092213",
   "metadata": {},
   "outputs": [],
   "source": [
    "fig = go.Figure()\n",
    "for y_val, name in zip([y_true, y_pred, y_pred_scenario], ['y_true', 'y_pred', 'y_pred_scenario']):\n",
    "    fig.add_trace(\n",
    "        go.Scatter(\n",
    "            x=df.loc[mask, 'day_of_year'],\n",
    "            y=y_val,\n",
    "            name=name\n",
    "        )\n",
    "    )\n",
    "   \n",
    "fig.update_layout(\n",
    "    title='Predicting the Overal Bike Mobility of NYC | 2017',\n",
    "    yaxis=dict(title='mobility_index'),\n",
    "    xaxis=dict(title='day')\n",
    ")\n",
    "fig.show()"
   ]
  },
  {
   "cell_type": "code",
   "execution_count": null,
   "id": "9f9c08c8-7be6-41f0-b18e-ec70a3661103",
   "metadata": {},
   "outputs": [],
   "source": []
  }
 ],
 "metadata": {
  "environment": {
   "kernel": "python3",
   "name": "tf2-gpu.2-8.m91",
   "type": "gcloud",
   "uri": "gcr.io/deeplearning-platform-release/tf2-gpu.2-8:m91"
  },
  "kernelspec": {
   "display_name": "Python 3",
   "language": "python",
   "name": "python3"
  },
  "language_info": {
   "codemirror_mode": {
    "name": "ipython",
    "version": 3
   },
   "file_extension": ".py",
   "mimetype": "text/x-python",
   "name": "python",
   "nbconvert_exporter": "python",
   "pygments_lexer": "ipython3",
   "version": "3.7.12"
  }
 },
 "nbformat": 4,
 "nbformat_minor": 5
}
